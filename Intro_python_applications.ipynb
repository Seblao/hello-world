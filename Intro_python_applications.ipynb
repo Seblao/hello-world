{
 "cells": [
  {
   "cell_type": "markdown",
   "metadata": {},
   "source": [
    "# Exercice 1 :"
   ]
  },
  {
   "cell_type": "code",
   "execution_count": 1,
   "metadata": {},
   "outputs": [],
   "source": [
    "# Remplir 1 liste d'apprenants, afficher le nb des enregistrés ainsi q le 1er et le dernier de la liste "
   ]
  },
  {
   "cell_type": "code",
   "execution_count": 6,
   "metadata": {
    "slideshow": {
     "slide_type": "fragment"
    }
   },
   "outputs": [
    {
     "name": "stdout",
     "output_type": "stream",
     "text": [
      "['Niyaz', 'JP', 'Gauthier', 'Grég', 'Modou', 'Christian', 'Séb']\n"
     ]
    }
   ],
   "source": [
    "apprenant1 = 'Niyaz'\n",
    "apprenant2 = 'JP'\n",
    "apprenant3 = 'Gauthier'\n",
    "apprenant4 = 'Grég'\n",
    "apprenant5 = 'Modou'\n",
    "apprenant6 = 'Christian'\n",
    "apprenant7 = 'Séb'\n",
    "\n",
    "apprenants = ['Niyaz', 'JP', 'Gauthier', 'Grég', 'Modou', 'Christian', 'Séb']\n",
    "print(apprenants)"
   ]
  },
  {
   "cell_type": "code",
   "execution_count": 24,
   "metadata": {},
   "outputs": [
    {
     "data": {
      "text/plain": [
       "7"
      ]
     },
     "execution_count": 24,
     "metadata": {},
     "output_type": "execute_result"
    }
   ],
   "source": [
    "len(apprenants)"
   ]
  },
  {
   "cell_type": "code",
   "execution_count": 7,
   "metadata": {},
   "outputs": [
    {
     "data": {
      "text/plain": [
       "'Niyaz'"
      ]
     },
     "execution_count": 7,
     "metadata": {},
     "output_type": "execute_result"
    }
   ],
   "source": [
    "apprenants[0]"
   ]
  },
  {
   "cell_type": "code",
   "execution_count": 8,
   "metadata": {},
   "outputs": [
    {
     "data": {
      "text/plain": [
       "'Séb'"
      ]
     },
     "execution_count": 8,
     "metadata": {},
     "output_type": "execute_result"
    }
   ],
   "source": [
    "apprenants[6]"
   ]
  },
  {
   "cell_type": "code",
   "execution_count": 9,
   "metadata": {},
   "outputs": [
    {
     "name": "stdout",
     "output_type": "stream",
     "text": [
      "Séb\n"
     ]
    }
   ],
   "source": [
    "print(apprenants[-1])"
   ]
  },
  {
   "cell_type": "code",
   "execution_count": null,
   "metadata": {},
   "outputs": [],
   "source": [
    "# Ajter, 1 nouvel apprenant et afficher la liste finale"
   ]
  },
  {
   "cell_type": "code",
   "execution_count": 10,
   "metadata": {},
   "outputs": [
    {
     "name": "stdout",
     "output_type": "stream",
     "text": [
      "['Niyaz', 'JP', 'Gauthier', 'Grég', 'Modou', 'Christian', 'Séb', 'Ana']\n"
     ]
    }
   ],
   "source": [
    "apprenants.append('Ana')\n",
    "print(apprenants)"
   ]
  },
  {
   "cell_type": "code",
   "execution_count": 11,
   "metadata": {},
   "outputs": [
    {
     "data": {
      "text/plain": [
       "8"
      ]
     },
     "execution_count": 11,
     "metadata": {},
     "output_type": "execute_result"
    }
   ],
   "source": [
    "len(apprenants)"
   ]
  },
  {
   "cell_type": "code",
   "execution_count": 12,
   "metadata": {},
   "outputs": [
    {
     "name": "stdout",
     "output_type": "stream",
     "text": [
      "[['Niyaz', 'JP', 'Gauthier', 'Grég', 'Modou', 'Christian', 'Séb'], ['Ana']]\n"
     ]
    }
   ],
   "source": [
    "a = ['Niyaz', 'JP', 'Gauthier', 'Grég', 'Modou', 'Christian', 'Séb']\n",
    "b = ['Ana']\n",
    "x = [a,b]\n",
    "print(x)"
   ]
  },
  {
   "cell_type": "code",
   "execution_count": 2,
   "metadata": {},
   "outputs": [],
   "source": [
    "# Supprimer des éléments d'1 liste :"
   ]
  },
  {
   "cell_type": "code",
   "execution_count": 3,
   "metadata": {},
   "outputs": [],
   "source": [
    "# Avec del : del variable à supprimer"
   ]
  },
  {
   "cell_type": "code",
   "execution_count": 13,
   "metadata": {},
   "outputs": [
    {
     "data": {
      "text/plain": [
       "['Niyaz', 'JP', 'Gauthier', 'Modou', 'Christian', 'Séb', 'Ana']"
      ]
     },
     "execution_count": 13,
     "metadata": {},
     "output_type": "execute_result"
    }
   ],
   "source": [
    "del apprenants [3]\n",
    "apprenants"
   ]
  },
  {
   "cell_type": "code",
   "execution_count": 4,
   "metadata": {},
   "outputs": [],
   "source": [
    "# Avec la méthode remove : prend en paramètre l'élément (et non pas l'indice de l'élément à supprimer (pop)"
   ]
  },
  {
   "cell_type": "code",
   "execution_count": 17,
   "metadata": {},
   "outputs": [
    {
     "ename": "ValueError",
     "evalue": "list.remove(x): x not in list",
     "output_type": "error",
     "traceback": [
      "\u001b[1;31m---------------------------------------------------------------------------\u001b[0m",
      "\u001b[1;31mValueError\u001b[0m                                Traceback (most recent call last)",
      "Cell \u001b[1;32mIn[17], line 1\u001b[0m\n\u001b[1;32m----> 1\u001b[0m apprenants\u001b[38;5;241m.\u001b[39mremove(\u001b[38;5;124m'\u001b[39m\u001b[38;5;124mJP\u001b[39m\u001b[38;5;124m'\u001b[39m)\n\u001b[0;32m      2\u001b[0m \u001b[38;5;28mprint\u001b[39m(apprenants)\n",
      "\u001b[1;31mValueError\u001b[0m: list.remove(x): x not in list"
     ]
    }
   ],
   "source": [
    "apprenants.remove('JP')\n",
    "print(apprenants)"
   ]
  },
  {
   "cell_type": "markdown",
   "metadata": {},
   "source": [
    "Pour plus de détails : [La documentation officielle de Python](https://docs.python.org/fr/3/tutorial/controlflow.html#the-range-function)"
   ]
  },
  {
   "cell_type": "markdown",
   "metadata": {},
   "source": [
    "# Exercice 2 : "
   ]
  },
  {
   "cell_type": "code",
   "execution_count": 18,
   "metadata": {},
   "outputs": [],
   "source": [
    "# Soit la liste suivante :\n",
    "# weekdays = ['mon', 'tues', 'wed', 'thurs', 'fri']"
   ]
  },
  {
   "cell_type": "code",
   "execution_count": 20,
   "metadata": {},
   "outputs": [
    {
     "name": "stdout",
     "output_type": "stream",
     "text": [
      "['mon', 'tues', 'wed', 'thurs', 'fri']\n"
     ]
    }
   ],
   "source": [
    "weekdays = ['mon', 'tues', 'wed', 'thurs', 'fri']\n",
    "print(weekdays)"
   ]
  },
  {
   "cell_type": "code",
   "execution_count": 21,
   "metadata": {},
   "outputs": [],
   "source": [
    "# Afficher le 1er element de la liste"
   ]
  },
  {
   "cell_type": "code",
   "execution_count": 22,
   "metadata": {},
   "outputs": [
    {
     "data": {
      "text/plain": [
       "'mon'"
      ]
     },
     "execution_count": 22,
     "metadata": {},
     "output_type": "execute_result"
    }
   ],
   "source": [
    "weekdays[0]"
   ]
  },
  {
   "cell_type": "code",
   "execution_count": 23,
   "metadata": {},
   "outputs": [],
   "source": [
    "# Afficher les elements 0 (inclus) à 3 (exclus)"
   ]
  },
  {
   "cell_type": "code",
   "execution_count": 24,
   "metadata": {},
   "outputs": [
    {
     "data": {
      "text/plain": [
       "['mon', 'tues', 'wed']"
      ]
     },
     "execution_count": 24,
     "metadata": {},
     "output_type": "execute_result"
    }
   ],
   "source": [
    "weekdays[0:3]"
   ]
  },
  {
   "cell_type": "code",
   "execution_count": 25,
   "metadata": {},
   "outputs": [],
   "source": [
    "# Afficher avec 1 pas de 2 (les indices: 0,2,4)"
   ]
  },
  {
   "cell_type": "code",
   "execution_count": 33,
   "metadata": {},
   "outputs": [
    {
     "data": {
      "text/plain": [
       "['mon', 'wed', 'fri']"
      ]
     },
     "execution_count": 33,
     "metadata": {},
     "output_type": "execute_result"
    }
   ],
   "source": [
    "(weekdays[::2])"
   ]
  },
  {
   "cell_type": "code",
   "execution_count": 32,
   "metadata": {},
   "outputs": [
    {
     "name": "stdout",
     "output_type": "stream",
     "text": [
      "['mon', 'wed', 'fri']\n"
     ]
    }
   ],
   "source": [
    "print(weekdays[0:5:2])"
   ]
  },
  {
   "cell_type": "code",
   "execution_count": 28,
   "metadata": {},
   "outputs": [
    {
     "name": "stdout",
     "output_type": "stream",
     "text": [
      "0 mon\n",
      "1 tues\n",
      "2 wed\n",
      "3 thurs\n",
      "4 fri\n"
     ]
    }
   ],
   "source": [
    "for i in range(len(weekdays)):\n",
    "    print(i, weekdays[i])"
   ]
  },
  {
   "cell_type": "code",
   "execution_count": 29,
   "metadata": {},
   "outputs": [],
   "source": [
    "# Afficher la liste inversée"
   ]
  },
  {
   "cell_type": "code",
   "execution_count": 71,
   "metadata": {},
   "outputs": [
    {
     "data": {
      "text/plain": [
       "['fri', 'thurs', 'wed', 'tues', 'mon']"
      ]
     },
     "execution_count": 71,
     "metadata": {},
     "output_type": "execute_result"
    }
   ],
   "source": [
    "weekdays_inversee = weekdays[::-1]\n",
    "weekdays_inversee"
   ]
  },
  {
   "cell_type": "code",
   "execution_count": null,
   "metadata": {},
   "outputs": [],
   "source": [
    "# Afficher la liste triée"
   ]
  },
  {
   "cell_type": "code",
   "execution_count": 38,
   "metadata": {},
   "outputs": [
    {
     "data": {
      "text/plain": [
       "['mon', 'tues', 'wed', 'thurs', 'fri']"
      ]
     },
     "execution_count": 38,
     "metadata": {},
     "output_type": "execute_result"
    }
   ],
   "source": [
    "weekdays.sort\n",
    "weekdays"
   ]
  },
  {
   "cell_type": "code",
   "execution_count": 39,
   "metadata": {},
   "outputs": [
    {
     "name": "stdout",
     "output_type": "stream",
     "text": [
      "['fri', 'mon', 'thurs', 'tues', 'wed']\n"
     ]
    }
   ],
   "source": [
    "weekdays_triee = sorted(weekdays)\n",
    "print(weekdays_triee)"
   ]
  },
  {
   "cell_type": "code",
   "execution_count": 40,
   "metadata": {},
   "outputs": [],
   "source": [
    "# Afficher la liste inversement triée"
   ]
  },
  {
   "cell_type": "code",
   "execution_count": 41,
   "metadata": {},
   "outputs": [
    {
     "data": {
      "text/plain": [
       "['wed', 'tues', 'thurs', 'mon', 'fri']"
      ]
     },
     "execution_count": 41,
     "metadata": {},
     "output_type": "execute_result"
    }
   ],
   "source": [
    "weekdays_triee_inversee = weekdays_triee[::-1]\n",
    "weekdays_triee_inversee"
   ]
  },
  {
   "cell_type": "code",
   "execution_count": 8,
   "metadata": {},
   "outputs": [
    {
     "name": "stdout",
     "output_type": "stream",
     "text": [
      "['wed', 'tues', 'thurs', 'mon', 'fri']\n"
     ]
    }
   ],
   "source": [
    "print(weekdays[::-1]) "
   ]
  },
  {
   "cell_type": "code",
   "execution_count": 42,
   "metadata": {},
   "outputs": [
    {
     "name": "stdout",
     "output_type": "stream",
     "text": [
      "['wed', 'tues', 'thurs', 'mon', 'fri']\n"
     ]
    }
   ],
   "source": [
    "weekdays.sort() \n",
    "weekdays.reverse() \n",
    "print(weekdays) "
   ]
  },
  {
   "cell_type": "code",
   "execution_count": 43,
   "metadata": {},
   "outputs": [
    {
     "name": "stdout",
     "output_type": "stream",
     "text": [
      "['wed', 'tues', 'thurs', 'mon', 'fri']\n"
     ]
    }
   ],
   "source": [
    "weekdays.sort(reverse=True) \n",
    "print(weekdays)"
   ]
  },
  {
   "cell_type": "markdown",
   "metadata": {},
   "source": [
    "# Exercice 3 :"
   ]
  },
  {
   "cell_type": "code",
   "execution_count": null,
   "metadata": {},
   "outputs": [],
   "source": [
    "# Soit 1 liste : \n",
    "# a=[0,3,1]"
   ]
  },
  {
   "cell_type": "code",
   "execution_count": null,
   "metadata": {},
   "outputs": [],
   "source": [
    "# Créer 1 tuple t à partir de la liste a et afficher son length"
   ]
  },
  {
   "cell_type": "code",
   "execution_count": 48,
   "metadata": {},
   "outputs": [],
   "source": [
    "a=[0,3,1]"
   ]
  },
  {
   "cell_type": "code",
   "execution_count": 49,
   "metadata": {},
   "outputs": [
    {
     "name": "stdout",
     "output_type": "stream",
     "text": [
      "Tuple (0, 3, 1)\n",
      "Longueur du Tuple: 3\n"
     ]
    }
   ],
   "source": [
    "t = tuple(a)\n",
    "print('Tuple',t)\n",
    "print('Longueur du Tuple:', len(t))"
   ]
  },
  {
   "cell_type": "code",
   "execution_count": 52,
   "metadata": {},
   "outputs": [
    {
     "ename": "NameError",
     "evalue": "name 'lent' is not defined",
     "output_type": "error",
     "traceback": [
      "\u001b[1;31m---------------------------------------------------------------------------\u001b[0m",
      "\u001b[1;31mNameError\u001b[0m                                 Traceback (most recent call last)",
      "Cell \u001b[1;32mIn[52], line 2\u001b[0m\n\u001b[0;32m      1\u001b[0m t \u001b[38;5;241m=\u001b[39m \u001b[38;5;28mtuple\u001b[39m(a)\n\u001b[1;32m----> 2\u001b[0m \u001b[38;5;28mprint\u001b[39m(t,\u001b[38;5;28mtype\u001b[39m(t),lent(t))\n",
      "\u001b[1;31mNameError\u001b[0m: name 'lent' is not defined"
     ]
    }
   ],
   "source": [
    "t = tuple(a)\n",
    "print(t,type(t),lent(t))"
   ]
  },
  {
   "cell_type": "code",
   "execution_count": null,
   "metadata": {},
   "outputs": [],
   "source": [
    "# Compter le nb d'instances de 0 ds t"
   ]
  },
  {
   "cell_type": "code",
   "execution_count": 53,
   "metadata": {},
   "outputs": [
    {
     "name": "stdout",
     "output_type": "stream",
     "text": [
      "Tuple: (0, 3, 1)\n",
      "L index de la première occurence de l élément 3 est : 1\n"
     ]
    }
   ],
   "source": [
    "element = 3\n",
    "index = t.index(element)\n",
    "print('Tuple:',t)\n",
    "print(f'L index de la première occurence de l élément {element} est :', index)"
   ]
  },
  {
   "cell_type": "code",
   "execution_count": null,
   "metadata": {},
   "outputs": [],
   "source": [
    "# Trver l'index de la 1ere instance de cet element trvé"
   ]
  },
  {
   "cell_type": "markdown",
   "metadata": {},
   "source": [
    "t.index(o)"
   ]
  },
  {
   "cell_type": "code",
   "execution_count": null,
   "metadata": {},
   "outputs": [],
   "source": [
    "# Q remarquez-vs si vs lancer la commande ci-dessous\n",
    "#t[2] = 2"
   ]
  },
  {
   "cell_type": "code",
   "execution_count": 55,
   "metadata": {},
   "outputs": [
    {
     "ename": "ValueError",
     "evalue": "tuple.index(x): x not in tuple",
     "output_type": "error",
     "traceback": [
      "\u001b[1;31m---------------------------------------------------------------------------\u001b[0m",
      "\u001b[1;31mValueError\u001b[0m                                Traceback (most recent call last)",
      "Cell \u001b[1;32mIn[55], line 2\u001b[0m\n\u001b[0;32m      1\u001b[0m elements \u001b[38;5;241m=\u001b[39m \u001b[38;5;241m2\u001b[39m\n\u001b[1;32m----> 2\u001b[0m index1 \u001b[38;5;241m=\u001b[39m t\u001b[38;5;241m.\u001b[39mindex(elements)\n\u001b[0;32m      3\u001b[0m \u001b[38;5;28mprint\u001b[39m(\u001b[38;5;124m'\u001b[39m\u001b[38;5;124mTuple:\u001b[39m\u001b[38;5;124m'\u001b[39m,t)\n\u001b[0;32m      4\u001b[0m \u001b[38;5;28mprint\u001b[39m(\u001b[38;5;124mf\u001b[39m\u001b[38;5;124m'\u001b[39m\u001b[38;5;124mL index de la première occurence de l élément \u001b[39m\u001b[38;5;132;01m{\u001b[39;00melements\u001b[38;5;132;01m}\u001b[39;00m\u001b[38;5;124m est :\u001b[39m\u001b[38;5;124m'\u001b[39m, index1)\n",
      "\u001b[1;31mValueError\u001b[0m: tuple.index(x): x not in tuple"
     ]
    }
   ],
   "source": [
    "elements = 2\n",
    "index1 = t.index(elements)\n",
    "print('Tuple:',t)\n",
    "print(f'L index de la première occurence de l élément {elements} est :', index1)"
   ]
  },
  {
   "cell_type": "code",
   "execution_count": null,
   "metadata": {},
   "outputs": [],
   "source": [
    "# On ne pt pas changer 1 Tuple. Lorsqu'on lance le tuple [2], cela ne pt pas marcher.\n",
    "# On ne pt pas modifier des valeurs à l'intérieur du tuple"
   ]
  },
  {
   "cell_type": "code",
   "execution_count": null,
   "metadata": {},
   "outputs": [],
   "source": [
    "# Ajter au tuple t, les 2 elements (3, 4)"
   ]
  },
  {
   "cell_type": "code",
   "execution_count": 57,
   "metadata": {},
   "outputs": [
    {
     "ename": "SyntaxError",
     "evalue": "invalid syntax (997909122.py, line 1)",
     "output_type": "error",
     "traceback": [
      "\u001b[1;36m  Cell \u001b[1;32mIn[57], line 1\u001b[1;36m\u001b[0m\n\u001b[1;33m    t +=\u001b[0m\n\u001b[1;37m        ^\u001b[0m\n\u001b[1;31mSyntaxError\u001b[0m\u001b[1;31m:\u001b[0m invalid syntax\n"
     ]
    }
   ],
   "source": [
    "t +=\n",
    "t= t+(3/4)\n",
    "print(t)"
   ]
  },
  {
   "cell_type": "code",
   "execution_count": 58,
   "metadata": {},
   "outputs": [],
   "source": [
    "# Trier le tuple t"
   ]
  },
  {
   "cell_type": "code",
   "execution_count": 59,
   "metadata": {},
   "outputs": [],
   "source": [
    "list_tuple=list(t)"
   ]
  },
  {
   "cell_type": "markdown",
   "metadata": {},
   "source": [
    "[La Reference complete est ici](https://docs.python.org/fr/3/tutorial/datastructures.html)"
   ]
  },
  {
   "cell_type": "markdown",
   "metadata": {},
   "source": [
    "# Exercice 4 :"
   ]
  },
  {
   "cell_type": "code",
   "execution_count": null,
   "metadata": {},
   "outputs": [],
   "source": [
    "# Créer le dictionnaire suivant et le stocker dans 1 v.a d1 :\n",
    "# age: 20\n",
    "# nom: \"Doe\""
   ]
  },
  {
   "cell_type": "code",
   "execution_count": null,
   "metadata": {},
   "outputs": [],
   "source": [
    "# Créer 1 second dictionnaire d2 contenant les valeurs suivantes :\n",
    "# age: 22\n",
    "# firstname: \"John\"\n",
    "# adresse: \"Paris\""
   ]
  },
  {
   "cell_type": "code",
   "execution_count": null,
   "metadata": {},
   "outputs": [],
   "source": [
    "# Fusionner le dictionnaire d1 ds d2"
   ]
  },
  {
   "cell_type": "code",
   "execution_count": 60,
   "metadata": {},
   "outputs": [
    {
     "name": "stdout",
     "output_type": "stream",
     "text": [
      "{'Age': '20 ans', 'firstname': 'John', 'adresse': 'Paris', 'nom': 'Doe'}\n"
     ]
    }
   ],
   "source": [
    "D1 = {'Age' : '20 ans', 'nom' : 'Doe'}\n",
    "D2 = {'Age' : '22 ans', 'firstname' : 'John', 'adresse' : 'Paris'}\n",
    "D2.update(D1)\n",
    "print(D2)"
   ]
  },
  {
   "cell_type": "code",
   "execution_count": 61,
   "metadata": {},
   "outputs": [],
   "source": [
    "# A l'aide d'1 boucle for afficher à la fois la clé du dictionnaire d2 et sa valeur pr chaque élément"
   ]
  },
  {
   "cell_type": "code",
   "execution_count": 62,
   "metadata": {},
   "outputs": [
    {
     "name": "stdout",
     "output_type": "stream",
     "text": [
      "clé: ,Age, Valeur: 20 ans\n",
      "clé: ,firstname, Valeur: John\n",
      "clé: ,adresse, Valeur: Paris\n",
      "clé: ,nom, Valeur: Doe\n"
     ]
    }
   ],
   "source": [
    "for key, value in D2.items():\n",
    "    print(f'clé: ,{key}, Valeur: {value}')"
   ]
  },
  {
   "cell_type": "code",
   "execution_count": 63,
   "metadata": {},
   "outputs": [],
   "source": [
    "# Supprimer la clé adresse du dictionnaire d2"
   ]
  },
  {
   "cell_type": "code",
   "execution_count": 64,
   "metadata": {},
   "outputs": [
    {
     "name": "stdout",
     "output_type": "stream",
     "text": [
      "{'Age': '20 ans', 'firstname': 'John', 'nom': 'Doe'}\n"
     ]
    }
   ],
   "source": [
    "D = D2.copy()\n",
    "D.pop('adresse')\n",
    "print(D)"
   ]
  },
  {
   "cell_type": "markdown",
   "metadata": {},
   "source": [
    "# Exercice 5 : "
   ]
  },
  {
   "cell_type": "code",
   "execution_count": null,
   "metadata": {},
   "outputs": [],
   "source": [
    "# Coder 1 fonct° duplicate_last_item qui prend 1 liste en argument et qui lui rajoute le dernier élément\n",
    "# par exemple si l = [1, 2, 3] après application de la fonction l doit être égale à [1, 2, 3, 3]"
   ]
  },
  {
   "cell_type": "code",
   "execution_count": 19,
   "metadata": {},
   "outputs": [],
   "source": [
    "L = [1, 2, 3]"
   ]
  },
  {
   "cell_type": "code",
   "execution_count": 69,
   "metadata": {
    "slideshow": {
     "slide_type": "fragment"
    }
   },
   "outputs": [],
   "source": [
    "def duplicate_last_item(list):\n",
    "    if list:\n",
    "        list.append(list[-1])\n",
    "        return list"
   ]
  },
  {
   "cell_type": "code",
   "execution_count": 70,
   "metadata": {},
   "outputs": [],
   "source": [
    "def duplicate_last_item(list):\n",
    "    if list:\n",
    "        list=list+[list[-1]]\n",
    "        return list"
   ]
  },
  {
   "cell_type": "code",
   "execution_count": 71,
   "metadata": {},
   "outputs": [
    {
     "ename": "NameError",
     "evalue": "name 'L' is not defined",
     "output_type": "error",
     "traceback": [
      "\u001b[1;31m---------------------------------------------------------------------------\u001b[0m",
      "\u001b[1;31mNameError\u001b[0m                                 Traceback (most recent call last)",
      "Cell \u001b[1;32mIn[71], line 1\u001b[0m\n\u001b[1;32m----> 1\u001b[0m duplicate_last_item(L)\n",
      "\u001b[1;31mNameError\u001b[0m: name 'L' is not defined"
     ]
    }
   ],
   "source": [
    "duplicate_last_item(L)"
   ]
  },
  {
   "cell_type": "markdown",
   "metadata": {},
   "source": [
    "# Exercice 6 : "
   ]
  },
  {
   "cell_type": "code",
   "execution_count": null,
   "metadata": {},
   "outputs": [],
   "source": [
    "# Coder 1 fonct° multiply_liste qui prd en argument 1 liste et retourne 1 liste dont ts les éléments st multipliés par 1 coefficient 𝛼 donné en argument "
   ]
  },
  {
   "cell_type": "code",
   "execution_count": null,
   "metadata": {},
   "outputs": [],
   "source": [
    "def multiply_list(l, alpha):\n",
    "    return [element * alpha for element in list]\n",
    "\n",
    "# Exemple d'utilisation\n",
    "l = [1, 2, 3]\n",
    "alpha = 2\n",
    "# Cela imprimera [2, 4, 6, 8, 10]\n",
    "resultat = multiply_list(l, alpha)\n",
    "print(resultat)"
   ]
  },
  {
   "cell_type": "code",
   "execution_count": null,
   "metadata": {},
   "outputs": [],
   "source": [
    "def multiply_list(l, alpha):\n",
    "    new_list = []\n",
    "    for i in l:\n",
    "        new_list.append(ialpha)\n",
    "    return new_list,new_listalpha\n",
    "\n",
    "l = [1, 2, 3]\n",
    "alpha = 2\n",
    "multiply_list(l, alpha)"
   ]
  },
  {
   "cell_type": "code",
   "execution_count": 72,
   "metadata": {},
   "outputs": [],
   "source": [
    "def multiply_list(l, alpha):\n",
    "    return[x*alpha for x in l]\n",
    "           \n",
    "    l = [1, 2, 3]\n",
    "    alpha = 2\n",
    "    multiply_list(l, alpha)"
   ]
  },
  {
   "cell_type": "code",
   "execution_count": 73,
   "metadata": {},
   "outputs": [],
   "source": [
    "def multiply_listl(l, alpha):\n",
    "    res = []\n",
    "    for x in 1 : \n",
    "        res.append(x*alpha)\n",
    "        return res"
   ]
  },
  {
   "cell_type": "code",
   "execution_count": 75,
   "metadata": {
    "slideshow": {
     "slide_type": "subslide"
    }
   },
   "outputs": [
    {
     "data": {
      "text/plain": [
       "[2, 4, 6]"
      ]
     },
     "execution_count": 75,
     "metadata": {},
     "output_type": "execute_result"
    }
   ],
   "source": [
    "# Coder 1 fonct° filter_even_values qui filtre ttes les valeurs paire d'1 liste\n",
    "\n",
    "def filter_even_values(liste):\n",
    "    return[x for x in liste if x%2 ==0]\n",
    "l = [1, 2, 3, 4, 5, 6]\n",
    "filter_even_values(l)"
   ]
  },
  {
   "cell_type": "code",
   "execution_count": 77,
   "metadata": {},
   "outputs": [],
   "source": [
    "def filter_even_values(l):\n",
    "    ll=[]\n",
    "    for i in l:\n",
    "        if i%2==0:\n",
    "            ll.append(i)\n",
    "\n",
    "    return ll"
   ]
  },
  {
   "cell_type": "markdown",
   "metadata": {},
   "source": [
    "# Exercice 7 : "
   ]
  },
  {
   "cell_type": "code",
   "execution_count": null,
   "metadata": {},
   "outputs": [],
   "source": [
    "# Coder la fonct° is_adult qui affiche \"mineur\" si le nb en entré est < à 18, \"adulte\" si >= à 18 et < à 65 et \"senior\" sinon"
   ]
  },
  {
   "cell_type": "code",
   "execution_count": 78,
   "metadata": {
    "slideshow": {
     "slide_type": "-"
    }
   },
   "outputs": [],
   "source": [
    "def is_adult(age):\n",
    "    if age <18:\n",
    "        return('mineur')\n",
    "    elif age >=18 and age<65:\n",
    "        return('adulte')\n",
    "    else:\n",
    "        return('senior')"
   ]
  },
  {
   "cell_type": "code",
   "execution_count": 79,
   "metadata": {},
   "outputs": [
    {
     "data": {
      "text/plain": [
       "'adulte'"
      ]
     },
     "execution_count": 79,
     "metadata": {},
     "output_type": "execute_result"
    }
   ],
   "source": [
    "is_adult(60)"
   ]
  },
  {
   "cell_type": "markdown",
   "metadata": {},
   "source": [
    "# Exercice 8 :"
   ]
  },
  {
   "cell_type": "code",
   "execution_count": null,
   "metadata": {},
   "outputs": [],
   "source": [
    "# Coder la fonct° average qui prend en argument 1 liste de nb et qui retourne la moyenne de celle-ci \n",
    "# On utilisera 1 boucle for obligatoirement"
   ]
  },
  {
   "cell_type": "code",
   "execution_count": 81,
   "metadata": {},
   "outputs": [],
   "source": [
    "def average(list):\n",
    "    totla_sum = 0\n",
    "    count = 0\n",
    "    if list:\n",
    "        for elt in list:\n",
    "            total_sum += elt\n",
    "            count +=1\n",
    "            return "
   ]
  },
  {
   "cell_type": "code",
   "execution_count": 82,
   "metadata": {
    "slideshow": {
     "slide_type": "-"
    }
   },
   "outputs": [
    {
     "name": "stdout",
     "output_type": "stream",
     "text": [
      "3.0\n"
     ]
    }
   ],
   "source": [
    "def average(numbers):\n",
    "    total = 0\n",
    "    for number in numbers:\n",
    "        total += number\n",
    "    return total / len(numbers)\n",
    "\n",
    "print(average([1, 2, 3, 4, 5]))\n"
   ]
  },
  {
   "cell_type": "markdown",
   "metadata": {},
   "source": [
    "# Exercice 9 : "
   ]
  },
  {
   "cell_type": "code",
   "execution_count": null,
   "metadata": {},
   "outputs": [],
   "source": [
    "# Faire 1 fonct° reverse_string qui prend en argument 1 chaîne de caractère et qui retourne la chaîne retournée"
   ]
  },
  {
   "cell_type": "code",
   "execution_count": 83,
   "metadata": {},
   "outputs": [
    {
     "data": {
      "text/plain": [
       "'SIROTRAS'"
      ]
     },
     "execution_count": 83,
     "metadata": {},
     "output_type": "execute_result"
    }
   ],
   "source": [
    "def reverse_string(string:str) -> str:\n",
    "    return string[::-1]\n",
    "    \n",
    "reverse_string('SARTORIS')"
   ]
  }
 ],
 "metadata": {
  "celltoolbar": "Diaporama",
  "kernelspec": {
   "display_name": "Python 3 (ipykernel)",
   "language": "python",
   "name": "python3"
  },
  "language_info": {
   "codemirror_mode": {
    "name": "ipython",
    "version": 3
   },
   "file_extension": ".py",
   "mimetype": "text/x-python",
   "name": "python",
   "nbconvert_exporter": "python",
   "pygments_lexer": "ipython3",
   "version": "3.11.7"
  },
  "toc": {
   "base_numbering": 1,
   "nav_menu": {},
   "number_sections": true,
   "sideBar": true,
   "skip_h1_title": false,
   "title_cell": "Table of Contents",
   "title_sidebar": "Contents",
   "toc_cell": false,
   "toc_position": {
    "height": "613.944px",
    "left": "40px",
    "top": "110.806px",
    "width": "212px"
   },
   "toc_section_display": true,
   "toc_window_display": true
  }
 },
 "nbformat": 4,
 "nbformat_minor": 4
}
